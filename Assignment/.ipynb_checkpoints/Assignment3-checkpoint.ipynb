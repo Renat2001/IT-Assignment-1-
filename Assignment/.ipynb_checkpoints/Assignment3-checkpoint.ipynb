{
 "cells": [
  {
   "cell_type": "markdown",
   "id": "2e94024e",
   "metadata": {},
   "source": [
    "## Assignment 3"
   ]
  },
  {
   "cell_type": "code",
   "execution_count": 1,
   "id": "b6b8140d",
   "metadata": {},
   "outputs": [
    {
     "data": {
      "text/plain": [
       "{' ': 28,\n",
       " ',': 2,\n",
       " '-': 1,\n",
       " '.': 2,\n",
       " '0': 3,\n",
       " '2': 1,\n",
       " '4': 1,\n",
       " '5': 1,\n",
       " 'B': 1,\n",
       " 'C': 3,\n",
       " 'H': 1,\n",
       " 'I': 1,\n",
       " 'L': 2,\n",
       " 'M': 1,\n",
       " 'R': 1,\n",
       " 'S': 1,\n",
       " 'V': 1,\n",
       " 'a': 14,\n",
       " 'c': 6,\n",
       " 'd': 4,\n",
       " 'e': 11,\n",
       " 'f': 3,\n",
       " 'g': 3,\n",
       " 'h': 2,\n",
       " 'i': 14,\n",
       " 'k': 2,\n",
       " 'l': 7,\n",
       " 'm': 3,\n",
       " 'n': 9,\n",
       " 'o': 10,\n",
       " 'p': 3,\n",
       " 'r': 10,\n",
       " 's': 7,\n",
       " 't': 9,\n",
       " 'u': 1,\n",
       " 'v': 1,\n",
       " 'y': 3}"
      ]
     },
     "execution_count": 1,
     "metadata": {},
     "output_type": "execute_result"
    }
   ],
   "source": [
    "import numpy as np\n",
    "# Reading the text file and saving to txt variable\n",
    "txt = open('text.txt', 'r')\n",
    "txt = txt.read()\n",
    "txt\n",
    "\n",
    "# printing the number of unique characters\n",
    "len(set(txt))\n",
    "\n",
    "# Reconvert txt to list type with sorted elements\n",
    "newtxt = list(set(txt))\n",
    "newtxt.sort()\n",
    "newtxt\n",
    "\n",
    "# Creating the dictionary of keys-characters and values-frequencies\n",
    "dictionary = {letter: len([x for x in txt if x==letter]) for letter in newtxt}\n",
    "\n",
    "# Printing out the dictionary\n",
    "dictionary"
   ]
  },
  {
   "cell_type": "markdown",
   "id": "f1be8d8b",
   "metadata": {},
   "source": [
    "# Output 1"
   ]
  },
  {
   "cell_type": "code",
   "execution_count": null,
   "id": "e6f41ef0",
   "metadata": {},
   "outputs": [],
   "source": [
    "# Processing a final output: finding probability of each character\n",
    "for elem in dictionary:\n",
    "    dictionary[elem] = round(dictionary[elem]/len(txt), 3)\n",
    "dictionary = sorted(dictionary.items(), key=lambda x: x[1])\n",
    "dictionary = dict(dictionary)\n",
    "\n",
    "output3 = dictionary.copy()\n",
    "output1 = dictionary.copy()\n",
    "for elem in dictionary:\n",
    "    print(\"'\" + elem + \"' : \" + str(dictionary[elem]))"
   ]
  }
 ],
 "metadata": {
  "kernelspec": {
   "display_name": "Python 3",
   "language": "python",
   "name": "python3"
  },
  "language_info": {
   "codemirror_mode": {
    "name": "ipython",
    "version": 3
   },
   "file_extension": ".py",
   "mimetype": "text/x-python",
   "name": "python",
   "nbconvert_exporter": "python",
   "pygments_lexer": "ipython3",
   "version": "3.8.3"
  }
 },
 "nbformat": 4,
 "nbformat_minor": 5
}
