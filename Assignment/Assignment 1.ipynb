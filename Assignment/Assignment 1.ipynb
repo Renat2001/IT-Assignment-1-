{
 "cells": [
  {
   "cell_type": "markdown",
   "id": "053e48d4",
   "metadata": {},
   "source": [
    "## Assignment 1\n",
    "### Renat Abdrakhmanov, Murat Angsar\n",
    "### Group: BDA-1903"
   ]
  },
  {
   "cell_type": "code",
   "execution_count": 2,
   "id": "c32ae79c",
   "metadata": {},
   "outputs": [
    {
     "data": {
      "text/plain": [
       "'Aenean mollis, dui quis iaculis tincidunt, ex nisl suscipit magna, at varius est ex ac nunc. Nam pellentesque hendrerit orci nec tincidunt. Nulla rutrum nisi vitae felis sollicitudin varius. Vivamus quis mattis mi. Nam ex leo, malesuada eget tincidunt quis, euismod in diam. Vestibulum diam erat, vestibulum in mauris eget, volutpat aliquet nunc. Nam tincidunt tortor massa, ornare posuere metus egestas quis. Aliquam at venenatis lorem, nec imperdiet mi.\\n\\nPellentesque sit amet maximus arcu, at posuere orci. Lorem ipsum dolor sit amet, consectetur adipiscing elit. In pretium diam eget egestas euismod. Aenean commodo vitae quam ac aliquam. Maecenas sed enim eu augue varius tincidunt. Ut consectetur tristique lobortis. Aliquam sollicitudin ornare lorem, ac sagittis libero fermentum id. Nullam tempus ornare semper. Nulla elementum turpis lectus, at laoreet velit bibendum nec. Suspendisse diam nulla, faucibus vel tincidunt in, tempor eget ligula. Nunc sapien augue, mollis eget ipsum at, venenatis efficitur dolor.\\n\\nSed quam est, gravida vel tempus sed, molestie sit amet ante. Duis sagittis luctus imperdiet. Fusce blandit eu augue volutpat congue. Donec id euismod neque, imperdiet laoreet ex. Donec at nibh pellentesque, maximus augue quis, lacinia ante. Quisque cursus mi nec mauris cursus tempor. Mauris quis rutrum quam. Aenean purus tortor, iaculis id sapien id, scelerisque cursus arcu. Maecenas pharetra at sapien quis ultricies. In sed ante lacinia, ornare diam ac, finibus ante.'"
      ]
     },
     "execution_count": 2,
     "metadata": {},
     "output_type": "execute_result"
    }
   ],
   "source": [
    "# Reading the text file and saving to txt variable\n",
    "txt = open('text.txt', 'r')\n",
    "txt = txt.read()\n",
    "txt"
   ]
  },
  {
   "cell_type": "code",
   "execution_count": 3,
   "id": "a2ace2ba",
   "metadata": {},
   "outputs": [
    {
     "data": {
      "text/plain": [
       "'Aenean mollis, dui quis iaculis tincidunt, ex nisl suscipit magna, at varius est ex ac nunc. Nam pellentesque hendrerit orci nec tincidunt. Nulla rutrum nisi vitae felis sollicitudin varius. Vivamus quis mattis mi. Nam ex leo, malesuada eget tincidunt quis, euismod in diam. Vestibulum diam erat, vestibulum in mauris eget, volutpat aliquet nunc. Nam tincidunt tortor massa, ornare posuere metus egestas quis. Aliquam at venenatis lorem, nec imperdiet mi.Pellentesque sit amet maximus arcu, at posuere orci. Lorem ipsum dolor sit amet, consectetur adipiscing elit. In pretium diam eget egestas euismod. Aenean commodo vitae quam ac aliquam. Maecenas sed enim eu augue varius tincidunt. Ut consectetur tristique lobortis. Aliquam sollicitudin ornare lorem, ac sagittis libero fermentum id. Nullam tempus ornare semper. Nulla elementum turpis lectus, at laoreet velit bibendum nec. Suspendisse diam nulla, faucibus vel tincidunt in, tempor eget ligula. Nunc sapien augue, mollis eget ipsum at, venenatis efficitur dolor.Sed quam est, gravida vel tempus sed, molestie sit amet ante. Duis sagittis luctus imperdiet. Fusce blandit eu augue volutpat congue. Donec id euismod neque, imperdiet laoreet ex. Donec at nibh pellentesque, maximus augue quis, lacinia ante. Quisque cursus mi nec mauris cursus tempor. Mauris quis rutrum quam. Aenean purus tortor, iaculis id sapien id, scelerisque cursus arcu. Maecenas pharetra at sapien quis ultricies. In sed ante lacinia, ornare diam ac, finibus ante.'"
      ]
     },
     "execution_count": 3,
     "metadata": {},
     "output_type": "execute_result"
    }
   ],
   "source": [
    "# Removing breaklines and printing out with txt modified changes \n",
    "txt = txt.replace('\\n\\n', '')\n",
    "txt"
   ]
  },
  {
   "cell_type": "code",
   "execution_count": 4,
   "id": "3ab85115",
   "metadata": {},
   "outputs": [
    {
     "data": {
      "text/plain": [
       "36"
      ]
     },
     "execution_count": 4,
     "metadata": {},
     "output_type": "execute_result"
    }
   ],
   "source": [
    "# printing the number of unique characters\n",
    "len(set(txt))"
   ]
  },
  {
   "cell_type": "code",
   "execution_count": 5,
   "id": "d377ed92",
   "metadata": {},
   "outputs": [
    {
     "data": {
      "text/plain": [
       "[' ',\n",
       " ',',\n",
       " '.',\n",
       " 'A',\n",
       " 'D',\n",
       " 'F',\n",
       " 'I',\n",
       " 'L',\n",
       " 'M',\n",
       " 'N',\n",
       " 'P',\n",
       " 'Q',\n",
       " 'S',\n",
       " 'U',\n",
       " 'V',\n",
       " 'a',\n",
       " 'b',\n",
       " 'c',\n",
       " 'd',\n",
       " 'e',\n",
       " 'f',\n",
       " 'g',\n",
       " 'h',\n",
       " 'i',\n",
       " 'l',\n",
       " 'm',\n",
       " 'n',\n",
       " 'o',\n",
       " 'p',\n",
       " 'q',\n",
       " 'r',\n",
       " 's',\n",
       " 't',\n",
       " 'u',\n",
       " 'v',\n",
       " 'x']"
      ]
     },
     "execution_count": 5,
     "metadata": {},
     "output_type": "execute_result"
    }
   ],
   "source": [
    "# Reconvert txt to list type with sorted elements\n",
    "newtxt = list(set(txt))\n",
    "newtxt.sort()\n",
    "newtxt"
   ]
  },
  {
   "cell_type": "code",
   "execution_count": 6,
   "id": "b37bce24",
   "metadata": {},
   "outputs": [],
   "source": [
    "# Creating the dictionary of keys-characters and values-frequencies\n",
    "dictionary = {letter: len([x for x in txt if x==letter]) for letter in newtxt}"
   ]
  },
  {
   "cell_type": "code",
   "execution_count": 7,
   "id": "2a078137",
   "metadata": {},
   "outputs": [
    {
     "data": {
      "text/plain": [
       "{' ': 220,\n",
       " ',': 26,\n",
       " '.': 29,\n",
       " 'A': 5,\n",
       " 'D': 3,\n",
       " 'F': 1,\n",
       " 'I': 2,\n",
       " 'L': 1,\n",
       " 'M': 3,\n",
       " 'N': 7,\n",
       " 'P': 1,\n",
       " 'Q': 1,\n",
       " 'S': 2,\n",
       " 'U': 1,\n",
       " 'V': 2,\n",
       " 'a': 102,\n",
       " 'b': 10,\n",
       " 'c': 49,\n",
       " 'd': 38,\n",
       " 'e': 148,\n",
       " 'f': 6,\n",
       " 'g': 18,\n",
       " 'h': 3,\n",
       " 'i': 130,\n",
       " 'l': 59,\n",
       " 'm': 65,\n",
       " 'n': 76,\n",
       " 'o': 45,\n",
       " 'p': 26,\n",
       " 'q': 21,\n",
       " 'r': 62,\n",
       " 's': 97,\n",
       " 't': 100,\n",
       " 'u': 111,\n",
       " 'v': 15,\n",
       " 'x': 6}"
      ]
     },
     "execution_count": 7,
     "metadata": {},
     "output_type": "execute_result"
    }
   ],
   "source": [
    "# Printing out the dictionary\n",
    "dictionary"
   ]
  }
 ],
 "metadata": {
  "kernelspec": {
   "display_name": "Python 3",
   "language": "python",
   "name": "python3"
  },
  "language_info": {
   "codemirror_mode": {
    "name": "ipython",
    "version": 3
   },
   "file_extension": ".py",
   "mimetype": "text/x-python",
   "name": "python",
   "nbconvert_exporter": "python",
   "pygments_lexer": "ipython3",
   "version": "3.8.3"
  }
 },
 "nbformat": 4,
 "nbformat_minor": 5
}
