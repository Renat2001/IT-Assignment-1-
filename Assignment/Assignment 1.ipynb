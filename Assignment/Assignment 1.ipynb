{
 "cells": [
  {
   "cell_type": "markdown",
   "id": "053e48d4",
   "metadata": {},
   "source": [
    "## Assignment 1\n",
    "### Renat Abdrakhmanov, Murat Angsar\n",
    "### Group: BDA-1903"
   ]
  },
  {
   "cell_type": "code",
   "execution_count": 1,
   "id": "c32ae79c",
   "metadata": {},
   "outputs": [
    {
     "data": {
      "text/plain": [
       "'Aenean mollis, dui quis iaculis tincidunt, ex nisl suscipit magna, at varius est ex ac nunc. Nam pellentesque hendrerit orci nec tincidunt. Nulla rutrum nisi vitae felis sollicitudin varius. Vivamus quis mattis mi. Nam ex leo, malesuada eget tincidunt quis, euismod in diam. Vestibulum diam erat, vestibulum in mauris eget, volutpat aliquet nunc. Nam tincidunt tortor massa, ornare posuere metus egestas quis. Aliquam at venenatis lorem, nec imperdiet mi.\\n\\nPellentesque sit amet maximus arcu, at posuere orci. Lorem ipsum dolor sit amet, consectetur adipiscing elit. In pretium diam eget egestas euismod. Aenean commodo vitae quam ac aliquam. Maecenas sed enim eu augue varius tincidunt. Ut consectetur tristique lobortis. Aliquam sollicitudin ornare lorem, ac sagittis libero fermentum id. Nullam tempus ornare semper. Nulla elementum turpis lectus, at laoreet velit bibendum nec. Suspendisse diam nulla, faucibus vel tincidunt in, tempor eget ligula. Nunc sapien augue, mollis eget ipsum at, venenatis efficitur dolor.\\n\\nSed quam est, gravida vel tempus sed, molestie sit amet ante. Duis sagittis luctus imperdiet. Fusce blandit eu augue volutpat congue. Donec id euismod neque, imperdiet laoreet ex. Donec at nibh pellentesque, maximus augue quis, lacinia ante. Quisque cursus mi nec mauris cursus tempor. Mauris quis rutrum quam. Aenean purus tortor, iaculis id sapien id, scelerisque cursus arcu. Maecenas pharetra at sapien quis ultricies. In sed ante lacinia, ornare diam ac, finibus ante.'"
      ]
     },
     "execution_count": 1,
     "metadata": {},
     "output_type": "execute_result"
    }
   ],
   "source": [
    "# Reading the text file and saving to txt variable\n",
    "txt = open('text.txt', 'r')\n",
    "txt = txt.read()\n",
    "txt"
   ]
  },
  {
   "cell_type": "code",
   "execution_count": 2,
   "id": "a2ace2ba",
   "metadata": {},
   "outputs": [
    {
     "data": {
      "text/plain": [
       "'Aenean mollis, dui quis iaculis tincidunt, ex nisl suscipit magna, at varius est ex ac nunc. Nam pellentesque hendrerit orci nec tincidunt. Nulla rutrum nisi vitae felis sollicitudin varius. Vivamus quis mattis mi. Nam ex leo, malesuada eget tincidunt quis, euismod in diam. Vestibulum diam erat, vestibulum in mauris eget, volutpat aliquet nunc. Nam tincidunt tortor massa, ornare posuere metus egestas quis. Aliquam at venenatis lorem, nec imperdiet mi.Pellentesque sit amet maximus arcu, at posuere orci. Lorem ipsum dolor sit amet, consectetur adipiscing elit. In pretium diam eget egestas euismod. Aenean commodo vitae quam ac aliquam. Maecenas sed enim eu augue varius tincidunt. Ut consectetur tristique lobortis. Aliquam sollicitudin ornare lorem, ac sagittis libero fermentum id. Nullam tempus ornare semper. Nulla elementum turpis lectus, at laoreet velit bibendum nec. Suspendisse diam nulla, faucibus vel tincidunt in, tempor eget ligula. Nunc sapien augue, mollis eget ipsum at, venenatis efficitur dolor.Sed quam est, gravida vel tempus sed, molestie sit amet ante. Duis sagittis luctus imperdiet. Fusce blandit eu augue volutpat congue. Donec id euismod neque, imperdiet laoreet ex. Donec at nibh pellentesque, maximus augue quis, lacinia ante. Quisque cursus mi nec mauris cursus tempor. Mauris quis rutrum quam. Aenean purus tortor, iaculis id sapien id, scelerisque cursus arcu. Maecenas pharetra at sapien quis ultricies. In sed ante lacinia, ornare diam ac, finibus ante.'"
      ]
     },
     "execution_count": 2,
     "metadata": {},
     "output_type": "execute_result"
    }
   ],
   "source": [
    "# Removing breaklines and printing out with txt modified changes \n",
    "txt = txt.replace('\\n\\n', '')\n",
    "txt"
   ]
  }
 ],
 "metadata": {
  "kernelspec": {
   "display_name": "Python 3",
   "language": "python",
   "name": "python3"
  },
  "language_info": {
   "codemirror_mode": {
    "name": "ipython",
    "version": 3
   },
   "file_extension": ".py",
   "mimetype": "text/x-python",
   "name": "python",
   "nbconvert_exporter": "python",
   "pygments_lexer": "ipython3",
   "version": "3.8.3"
  }
 },
 "nbformat": 4,
 "nbformat_minor": 5
}
