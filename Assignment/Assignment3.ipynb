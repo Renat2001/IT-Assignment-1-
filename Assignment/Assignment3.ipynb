{
 "cells": [
  {
   "cell_type": "markdown",
   "id": "b832cc85",
   "metadata": {},
   "source": [
    "## Assignment 3"
   ]
  },
  {
   "cell_type": "code",
   "execution_count": 1,
   "id": "04c58640",
   "metadata": {},
   "outputs": [
    {
     "data": {
      "text/plain": [
       "{' ': 28,\n",
       " ',': 2,\n",
       " '-': 1,\n",
       " '.': 2,\n",
       " '0': 3,\n",
       " '2': 1,\n",
       " '4': 1,\n",
       " '5': 1,\n",
       " 'B': 1,\n",
       " 'C': 3,\n",
       " 'H': 1,\n",
       " 'I': 1,\n",
       " 'L': 2,\n",
       " 'M': 1,\n",
       " 'R': 1,\n",
       " 'S': 1,\n",
       " 'V': 1,\n",
       " 'a': 14,\n",
       " 'c': 6,\n",
       " 'd': 4,\n",
       " 'e': 11,\n",
       " 'f': 3,\n",
       " 'g': 3,\n",
       " 'h': 2,\n",
       " 'i': 14,\n",
       " 'k': 2,\n",
       " 'l': 7,\n",
       " 'm': 3,\n",
       " 'n': 9,\n",
       " 'o': 10,\n",
       " 'p': 3,\n",
       " 'r': 10,\n",
       " 's': 7,\n",
       " 't': 9,\n",
       " 'u': 1,\n",
       " 'v': 1,\n",
       " 'y': 3}"
      ]
     },
     "execution_count": 1,
     "metadata": {},
     "output_type": "execute_result"
    }
   ],
   "source": [
    "import numpy as np\n",
    "# Reading the text file and saving to txt variable\n",
    "txt = open('text.txt', 'r')\n",
    "txt = txt.read()\n",
    "txt\n",
    "\n",
    "# printing the number of unique characters\n",
    "len(set(txt))\n",
    "\n",
    "# Reconvert txt to list type with sorted elements\n",
    "newtxt = list(set(txt))\n",
    "newtxt.sort()\n",
    "newtxt\n",
    "\n",
    "# Creating the dictionary of keys-characters and values-frequencies\n",
    "dictionary = {letter: len([x for x in txt if x==letter]) for letter in newtxt}\n",
    "\n",
    "# Printing out the dictionary\n",
    "dictionary"
   ]
  },
  {
   "cell_type": "markdown",
   "id": "cfc02b88",
   "metadata": {},
   "source": [
    "# Output 1"
   ]
  },
  {
   "cell_type": "code",
   "execution_count": 2,
   "id": "1cbae69b",
   "metadata": {},
   "outputs": [
    {
     "name": "stdout",
     "output_type": "stream",
     "text": [
      "'-' : 0.006\n",
      "'2' : 0.006\n",
      "'4' : 0.006\n",
      "'5' : 0.006\n",
      "'B' : 0.006\n",
      "'H' : 0.006\n",
      "'I' : 0.006\n",
      "'M' : 0.006\n",
      "'R' : 0.006\n",
      "'S' : 0.006\n",
      "'V' : 0.006\n",
      "'u' : 0.006\n",
      "'v' : 0.006\n",
      "',' : 0.012\n",
      "'.' : 0.012\n",
      "'L' : 0.012\n",
      "'h' : 0.012\n",
      "'k' : 0.012\n",
      "'0' : 0.017\n",
      "'C' : 0.017\n",
      "'f' : 0.017\n",
      "'g' : 0.017\n",
      "'m' : 0.017\n",
      "'p' : 0.017\n",
      "'y' : 0.017\n",
      "'d' : 0.023\n",
      "'c' : 0.035\n",
      "'l' : 0.04\n",
      "'s' : 0.04\n",
      "'n' : 0.052\n",
      "'t' : 0.052\n",
      "'o' : 0.058\n",
      "'r' : 0.058\n",
      "'e' : 0.064\n",
      "'a' : 0.081\n",
      "'i' : 0.081\n",
      "' ' : 0.162\n"
     ]
    }
   ],
   "source": [
    "# Processing a final output: finding probability of each character\n",
    "for elem in dictionary:\n",
    "    dictionary[elem] = round(dictionary[elem]/len(txt), 3)\n",
    "dictionary = sorted(dictionary.items(), key=lambda x: x[1])\n",
    "dictionary = dict(dictionary)\n",
    "\n",
    "output3 = dictionary.copy()\n",
    "output1 = dictionary.copy()\n",
    "for elem in dictionary:\n",
    "    print(\"'\" + elem + \"' : \" + str(dictionary[elem]))"
   ]
  },
  {
   "cell_type": "markdown",
   "id": "2031ec99",
   "metadata": {},
   "source": [
    "## Output 2"
   ]
  },
  {
   "cell_type": "code",
   "execution_count": 3,
   "id": "abce9250",
   "metadata": {},
   "outputs": [],
   "source": [
    "import pandas as pd\n",
    "df = pd.DataFrame.from_dict(dictionary, orient=\"index\", columns=[\"probability\"])\n",
    "\n",
    "df = df.reset_index()\n",
    "\n",
    "df[\"left_child\"] = 'None'\n",
    "df[\"right_child\"] = 'None'\n",
    "df[\"bytecode\"] = ''\n",
    "\n",
    "df1 = pd.DataFrame.from_dict(dictionary, orient=\"index\", columns=[\"probability\"])\n",
    "\n",
    "df1 = df1.reset_index()\n",
    "\n",
    "df1[\"left_child\"] = 'None'\n",
    "df1[\"right_child\"] = 'None'\n",
    "df1[\"bytecode\"] = ''"
   ]
  },
  {
   "cell_type": "code",
   "execution_count": 4,
   "id": "4cb15ab9",
   "metadata": {},
   "outputs": [],
   "source": [
    "def Huffman(dictionary):\n",
    "    global df\n",
    "    minimal1 = list(dictionary)[0]\n",
    "    minimal2 = list(dictionary)[1]\n",
    "    \n",
    "    df = df.append({'index': f'node{int((len(df) - len(dictionary))/2)}', 'probability': dictionary[minimal1] + dictionary[minimal2],\n",
    "              'left_child': minimal1, 'right_child': minimal2, 'bytecode': ''}, ignore_index = True)\n",
    "    \n",
    "    dictionary[f\"node{int(((len(df) - 1) - len(dictionary))/2)}\"] = dictionary[minimal1] + dictionary[minimal2] \n",
    "    \n",
    "    del dictionary[minimal1]\n",
    "    del dictionary[minimal2]\n",
    "    if(len(dictionary)==1):\n",
    "        return (dictionary, df) \n",
    "    else:\n",
    "        return Huffman(dictionary)"
   ]
  },
  {
   "cell_type": "code",
   "execution_count": 5,
   "id": "2908c5c1",
   "metadata": {},
   "outputs": [],
   "source": [
    "def Output2(output1):\n",
    "    global df1\n",
    "    minimal1 = list(output1)[0]\n",
    "    minimal2 = list(output1)[1]\n",
    "    \n",
    "    df1 = df1.append({'index': f'node{int((len(df1) - len(output1))/2)}', 'probability': output1[minimal1] + output1[minimal2],\n",
    "              'left_child': minimal1, 'right_child': minimal2, 'bytecode': ''}, ignore_index = True)\n",
    "    \n",
    "    output1[f\"node{int(((len(df1) - 1) - len(output1))/2)}\"] = output1[minimal1] + output1[minimal2] \n",
    "    \n",
    "    del output1[minimal1]\n",
    "    del output1[minimal2]\n",
    "    \n",
    "    return (output1, df1) "
   ]
  },
  {
   "cell_type": "code",
   "execution_count": 6,
   "id": "ed5a9161",
   "metadata": {},
   "outputs": [],
   "source": [
    "df = Huffman(dictionary)[1]\n",
    "\n",
    "df = df.sort_values(\"probability\", ascending = False)\n",
    "\n",
    "df = df.reset_index()\n",
    "\n",
    "df.drop('level_0', axis = 1, inplace = True)\n",
    "\n",
    "df.set_index(\"index\", inplace = True)"
   ]
  },
  {
   "cell_type": "code",
   "execution_count": 7,
   "id": "ee41d9cb",
   "metadata": {},
   "outputs": [],
   "source": [
    "for i in range(len(df)):\n",
    "    if df.iloc[i, 1] != 'None':\n",
    "        df.iloc[list(df.index).index(df.iloc[i, 1]), -1] = df.iloc[i, -1] + '0'\n",
    "        df.iloc[list(df.index).index(df.iloc[i, 2]), -1] = df.iloc[i, -1] + '1'\n",
    "    else:\n",
    "        pass"
   ]
  },
  {
   "cell_type": "code",
   "execution_count": 8,
   "id": "60803d92",
   "metadata": {},
   "outputs": [
    {
     "data": {
      "text/html": [
       "<div>\n",
       "<style scoped>\n",
       "    .dataframe tbody tr th:only-of-type {\n",
       "        vertical-align: middle;\n",
       "    }\n",
       "\n",
       "    .dataframe tbody tr th {\n",
       "        vertical-align: top;\n",
       "    }\n",
       "\n",
       "    .dataframe thead th {\n",
       "        text-align: right;\n",
       "    }\n",
       "</style>\n",
       "<table border=\"1\" class=\"dataframe\">\n",
       "  <thead>\n",
       "    <tr style=\"text-align: right;\">\n",
       "      <th></th>\n",
       "      <th>probability</th>\n",
       "      <th>left_child</th>\n",
       "      <th>right_child</th>\n",
       "      <th>bytecode</th>\n",
       "    </tr>\n",
       "    <tr>\n",
       "      <th>index</th>\n",
       "      <th></th>\n",
       "      <th></th>\n",
       "      <th></th>\n",
       "      <th></th>\n",
       "    </tr>\n",
       "  </thead>\n",
       "  <tbody>\n",
       "    <tr>\n",
       "      <th>node35</th>\n",
       "      <td>1.003</td>\n",
       "      <td>node33</td>\n",
       "      <td>node34</td>\n",
       "      <td></td>\n",
       "    </tr>\n",
       "    <tr>\n",
       "      <th>node34</th>\n",
       "      <td>0.783</td>\n",
       "      <td>node31</td>\n",
       "      <td>node32</td>\n",
       "      <td>1</td>\n",
       "    </tr>\n",
       "    <tr>\n",
       "      <th>node31</th>\n",
       "      <td>0.399</td>\n",
       "      <td>node25</td>\n",
       "      <td>node26</td>\n",
       "      <td>10</td>\n",
       "    </tr>\n",
       "    <tr>\n",
       "      <th>node32</th>\n",
       "      <td>0.384</td>\n",
       "      <td>node27</td>\n",
       "      <td>node28</td>\n",
       "      <td>11</td>\n",
       "    </tr>\n",
       "    <tr>\n",
       "      <th>node27</th>\n",
       "      <td>0.336</td>\n",
       "      <td>node17</td>\n",
       "      <td>node18</td>\n",
       "      <td>110</td>\n",
       "    </tr>\n",
       "    <tr>\n",
       "      <th>...</th>\n",
       "      <td>...</td>\n",
       "      <td>...</td>\n",
       "      <td>...</td>\n",
       "      <td>...</td>\n",
       "    </tr>\n",
       "    <tr>\n",
       "      <th>S</th>\n",
       "      <td>0.006</td>\n",
       "      <td>None</td>\n",
       "      <td>None</td>\n",
       "      <td>111111</td>\n",
       "    </tr>\n",
       "    <tr>\n",
       "      <th>V</th>\n",
       "      <td>0.006</td>\n",
       "      <td>None</td>\n",
       "      <td>None</td>\n",
       "      <td>00000</td>\n",
       "    </tr>\n",
       "    <tr>\n",
       "      <th>v</th>\n",
       "      <td>0.006</td>\n",
       "      <td>None</td>\n",
       "      <td>None</td>\n",
       "      <td>00010</td>\n",
       "    </tr>\n",
       "    <tr>\n",
       "      <th>2</th>\n",
       "      <td>0.006</td>\n",
       "      <td>None</td>\n",
       "      <td>None</td>\n",
       "      <td>110111</td>\n",
       "    </tr>\n",
       "    <tr>\n",
       "      <th>-</th>\n",
       "      <td>0.006</td>\n",
       "      <td>None</td>\n",
       "      <td>None</td>\n",
       "      <td>110110</td>\n",
       "    </tr>\n",
       "  </tbody>\n",
       "</table>\n",
       "<p>73 rows × 4 columns</p>\n",
       "</div>"
      ],
      "text/plain": [
       "        probability left_child right_child bytecode\n",
       "index                                              \n",
       "node35        1.003     node33      node34         \n",
       "node34        0.783     node31      node32        1\n",
       "node31        0.399     node25      node26       10\n",
       "node32        0.384     node27      node28       11\n",
       "node27        0.336     node17      node18      110\n",
       "...             ...        ...         ...      ...\n",
       "S             0.006       None        None   111111\n",
       "V             0.006       None        None    00000\n",
       "v             0.006       None        None    00010\n",
       "2             0.006       None        None   110111\n",
       "-             0.006       None        None   110110\n",
       "\n",
       "[73 rows x 4 columns]"
      ]
     },
     "execution_count": 8,
     "metadata": {},
     "output_type": "execute_result"
    }
   ],
   "source": [
    "df"
   ]
  },
  {
   "cell_type": "code",
   "execution_count": 9,
   "id": "33836183",
   "metadata": {},
   "outputs": [],
   "source": [
    "string = []\n",
    "i = 1\n",
    "while(len(output1) != 1):\n",
    "    result = Output2(output1)\n",
    "    string.append(f\"Step{i}: \" + str(result[1][result[1][\"left_child\"]!='None'].iloc[-1][\"index\"]) + \" (\" + df.loc[result[1][result[1][\"left_child\"]!='None'].iloc[-1][\"index\"]][\"bytecode\"] + \") '\" + str(result[1][result[1][\"left_child\"]!='None'].iloc[-1][\"left_child\"]) + \"', '\" + str(result[1][result[1][\"left_child\"]!='None'].iloc[-1][\"right_child\"]) + \"' - sum \" +str(round(result[1][result[1][\"left_child\"]!='None'].iloc[-1][\"probability\"], 3)))\n",
    "    i = i + 1"
   ]
  },
  {
   "cell_type": "code",
   "execution_count": 10,
   "id": "1beed737",
   "metadata": {},
   "outputs": [
    {
     "name": "stdout",
     "output_type": "stream",
     "text": [
      "Step1: node0 (11011) '-', '2' - sum 0.012\n",
      "\n",
      "Step2: node1 (11100) '4', '5' - sum 0.012\n",
      "\n",
      "Step3: node2 (11101) 'B', 'H' - sum 0.012\n",
      "\n",
      "Step4: node3 (11110) 'I', 'M' - sum 0.012\n",
      "\n",
      "Step5: node4 (11111) 'R', 'S' - sum 0.012\n",
      "\n",
      "Step6: node5 (0000) 'V', 'u' - sum 0.012\n",
      "\n",
      "Step7: node6 (0001) 'v', ',' - sum 0.018\n",
      "\n",
      "Step8: node7 (0010) '.', 'L' - sum 0.024\n",
      "\n",
      "Step9: node8 (0011) 'h', 'k' - sum 0.024\n",
      "\n",
      "Step10: node9 (0100) '0', 'C' - sum 0.034\n",
      "\n",
      "Step11: node10 (0101) 'f', 'g' - sum 0.034\n",
      "\n",
      "Step12: node11 (0110) 'm', 'p' - sum 0.034\n",
      "\n",
      "Step13: node12 (0111) 'y', 'd' - sum 0.04\n",
      "\n",
      "Step14: node13 (1000) 'c', 'l' - sum 0.075\n",
      "\n",
      "Step15: node14 (1001) 's', 'n' - sum 0.092\n",
      "\n",
      "Step16: node15 (1010) 't', 'o' - sum 0.11\n",
      "\n",
      "Step17: node16 (1011) 'r', 'e' - sum 0.122\n",
      "\n",
      "Step18: node17 (1100) 'a', 'i' - sum 0.162\n",
      "\n",
      "Step19: node18 (1101) ' ', 'node0' - sum 0.174\n",
      "\n",
      "Step20: node19 (1110) 'node1', 'node2' - sum 0.024\n",
      "\n",
      "Step21: node20 (1111) 'node3', 'node4' - sum 0.024\n",
      "\n",
      "Step22: node21 (000) 'node5', 'node6' - sum 0.03\n",
      "\n",
      "Step23: node22 (001) 'node7', 'node8' - sum 0.048\n",
      "\n",
      "Step24: node23 (010) 'node9', 'node10' - sum 0.068\n",
      "\n",
      "Step25: node24 (011) 'node11', 'node12' - sum 0.074\n",
      "\n",
      "Step26: node25 (100) 'node13', 'node14' - sum 0.167\n",
      "\n",
      "Step27: node26 (101) 'node15', 'node16' - sum 0.232\n",
      "\n",
      "Step28: node27 (110) 'node17', 'node18' - sum 0.336\n",
      "\n",
      "Step29: node28 (111) 'node19', 'node20' - sum 0.048\n",
      "\n",
      "Step30: node29 (00) 'node21', 'node22' - sum 0.078\n",
      "\n",
      "Step31: node30 (01) 'node23', 'node24' - sum 0.142\n",
      "\n",
      "Step32: node31 (10) 'node25', 'node26' - sum 0.399\n",
      "\n",
      "Step33: node32 (11) 'node27', 'node28' - sum 0.384\n",
      "\n",
      "Step34: node33 (0) 'node29', 'node30' - sum 0.22\n",
      "\n",
      "Step35: node34 (1) 'node31', 'node32' - sum 0.783\n",
      "\n",
      "Step36: node35 () 'node33', 'node34' - sum 1.003\n",
      "\n"
     ]
    }
   ],
   "source": [
    "for x in string:\n",
    "    print(x + '\\n')"
   ]
  },
  {
   "cell_type": "markdown",
   "id": "81434cdd",
   "metadata": {},
   "source": [
    "## Output 3"
   ]
  },
  {
   "cell_type": "code",
   "execution_count": 11,
   "id": "1257e5e3",
   "metadata": {},
   "outputs": [
    {
     "name": "stdout",
     "output_type": "stream",
     "text": [
      "' ' - 0.162 - 11010\n",
      "'a' - 0.081 - 11000\n",
      "'i' - 0.081 - 11001\n",
      "'e' - 0.064 - 10111\n",
      "'o' - 0.058 - 10101\n",
      "'r' - 0.058 - 10110\n",
      "'n' - 0.052 - 10011\n",
      "'t' - 0.052 - 10100\n",
      "'l' - 0.04 - 10001\n",
      "'s' - 0.04 - 10010\n",
      "'c' - 0.035 - 10000\n",
      "'d' - 0.023 - 01111\n",
      "'0' - 0.017 - 01000\n",
      "'C' - 0.017 - 01001\n",
      "'f' - 0.017 - 01010\n",
      "'g' - 0.017 - 01011\n",
      "'m' - 0.017 - 01100\n",
      "'p' - 0.017 - 01101\n",
      "'y' - 0.017 - 01110\n",
      "',' - 0.012 - 00011\n",
      "'.' - 0.012 - 00100\n",
      "'L' - 0.012 - 00101\n",
      "'h' - 0.012 - 00110\n",
      "'k' - 0.012 - 00111\n",
      "'-' - 0.006 - 110110\n",
      "'2' - 0.006 - 110111\n",
      "'4' - 0.006 - 111000\n",
      "'5' - 0.006 - 111001\n",
      "'B' - 0.006 - 111010\n",
      "'H' - 0.006 - 111011\n",
      "'I' - 0.006 - 111100\n",
      "'M' - 0.006 - 111101\n",
      "'R' - 0.006 - 111110\n",
      "'S' - 0.006 - 111111\n",
      "'V' - 0.006 - 00000\n",
      "'u' - 0.006 - 00001\n",
      "'v' - 0.006 - 00010\n"
     ]
    }
   ],
   "source": [
    "output3 = dict(sorted(output3.items(), key=lambda x: x[1], reverse = True))\n",
    "output3\n",
    "for x in output3:\n",
    "    print(\"'\" + x + \"' - \" + str(output3[x]) + \" - \" + df.loc[x][\"bytecode\"])"
   ]
  },
  {
   "cell_type": "markdown",
   "id": "bbb81bc9",
   "metadata": {},
   "source": [
    "## Output 4"
   ]
  },
  {
   "cell_type": "code",
   "execution_count": 33,
   "id": "3a45e990",
   "metadata": {},
   "outputs": [],
   "source": [
    "new = ''\n",
    "for char in txt:\n",
    "    new = new + df.loc[char][\"bytecode\"]"
   ]
  },
  {
   "cell_type": "code",
   "execution_count": 42,
   "id": "b5ada050",
   "metadata": {},
   "outputs": [
    {
     "data": {
      "text/plain": [
       "<function TextIOWrapper.close()>"
      ]
     },
     "execution_count": 42,
     "metadata": {},
     "output_type": "execute_result"
    }
   ],
   "source": [
    "f = open(\"new.txt\", \"a\")\n",
    "f.write(new)\n",
    "f.close"
   ]
  },
  {
   "cell_type": "code",
   "execution_count": 43,
   "id": "0565e6e7",
   "metadata": {},
   "outputs": [
    {
     "data": {
      "text/plain": [
       "'11110010100110100011011000100101101010110101011010110100100101101011001100111101011000110100110111001101111000010111110101010101010110101000010001110001001010010110011000011000100011101000101110001010011001100111101010001110011010010111101101100010100000011011010111110100101010110101010110011010111000111001110101110100100100011110100110011000001111100110011010111101011001101001101010101000101011110110110101101110100001000010001101001110101111100010110100101101010101100010111100100110101111101100110000001101100010110011111101011110110000010011000111001100111010010101100000011100011110101100011010001011100010100110011001111010011011011010101010101011110010100101010110110110101100010100110101110111100001100011010111110111100111101101111110111001111100111011101110110100100110101100011000110111010111011111010110011001111010000001100110110010111100110011110011100000100'"
      ]
     },
     "execution_count": 43,
     "metadata": {},
     "output_type": "execute_result"
    }
   ],
   "source": [
    "f = open(\"new.txt\", \"r\")\n",
    "newtxt = f.read()\n",
    "newtxt"
   ]
  }
 ],
 "metadata": {
  "kernelspec": {
   "display_name": "Python 3",
   "language": "python",
   "name": "python3"
  },
  "language_info": {
   "codemirror_mode": {
    "name": "ipython",
    "version": 3
   },
   "file_extension": ".py",
   "mimetype": "text/x-python",
   "name": "python",
   "nbconvert_exporter": "python",
   "pygments_lexer": "ipython3",
   "version": "3.8.3"
  }
 },
 "nbformat": 4,
 "nbformat_minor": 5
}
