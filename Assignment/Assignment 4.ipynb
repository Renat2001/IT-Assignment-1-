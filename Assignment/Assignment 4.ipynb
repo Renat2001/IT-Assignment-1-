{
 "cells": [
  {
   "cell_type": "markdown",
   "metadata": {},
   "source": [
    "## Assignment 4"
   ]
  },
  {
   "cell_type": "code",
   "execution_count": 5,
   "metadata": {},
   "outputs": [],
   "source": [
    "# Reading the text file and saving to txt variable\n",
    "txt = open('text.txt', 'r')\n",
    "txt = txt.read()\n",
    "txt\n",
    "\n",
    "# printing the number of unique characters\n",
    "len(set(txt))\n",
    "\n",
    "# Reconvert txt to list type with sorted elements\n",
    "newtxt = list(set(txt))\n",
    "newtxt.sort()\n",
    "newtxt\n",
    "\n",
    "# Creating the dictionary of keys-characters and values-frequencies\n",
    "dictionary = {letter: len([x for x in txt if x==letter]) for letter in newtxt}\n",
    "\n",
    "# Processing a final output: finding probability of each character\n",
    "for elem in dictionary:\n",
    "    dictionary[elem] = round(dictionary[elem]/len(txt), 3)\n",
    "dictionary = sorted(dictionary.items(), key=lambda x: x[1])\n",
    "dictionary = dict(dictionary)\n",
    "\n",
    "table = {letter: [round(len([x for x in txt if x==letter])/len(txt), 3), 'None', 'None', ''] for letter in newtxt}\n",
    "table = sorted(table.items(), key=lambda x: x[1])\n",
    "table = dict(table)\n",
    "\n",
    "def Huffman(dictionary):\n",
    "    global table\n",
    "    minimal1 = list(dictionary)[0]\n",
    "    minimal2 = list(dictionary)[1]\n",
    "    \n",
    "    table[f'node{int((len(table) - len(dictionary))/2)}'] = [dictionary[minimal1] + dictionary[minimal2],\n",
    "                                                            minimal1, minimal2, '']\n",
    "    \n",
    "    dictionary[f\"node{int(((len(table) - 1) - len(dictionary))/2)}\"] = dictionary[minimal1] + dictionary[minimal2] \n",
    "    \n",
    "    del dictionary[minimal1]\n",
    "    del dictionary[minimal2]\n",
    "    if(len(dictionary)==1):\n",
    "        return (dictionary, table) \n",
    "    else:\n",
    "        return Huffman(dictionary)\n",
    "\n",
    "tree = Huffman(dictionary)[1]\n",
    "\n",
    "tree = dict(sorted(tree.items(), key=lambda x: x[1], reverse = True))\n",
    "\n",
    "for key in tree:\n",
    "    if tree[key][1] != 'None':\n",
    "        tree[tree[key][1]][-1] = tree[key][-1] + '0'\n",
    "        tree[tree[key][2]][-1] = tree[key][-1] + '1'\n",
    "    else:\n",
    "        pass"
   ]
  },
  {
   "cell_type": "markdown",
   "metadata": {},
   "source": [
    "## 1"
   ]
  },
  {
   "cell_type": "code",
   "execution_count": 6,
   "metadata": {},
   "outputs": [
    {
     "data": {
      "text/plain": [
       "'111011100111100100101101111000111001101011010010100100111000111001110001001011001101111100101100110001011001111101101100110100010011100101111100001011110001100011100001111101111000011001001001011110011110001001011001100001100010011101101010110111100110000010101101101100101001101011010001011110011101111110001100111100101000000101100101011101110011011000100100101011001110001001111001101000000110110101011100111011000111001110011111001011011011010111101011000111001101001000001110000111100111110111000011110010110111101010111011001111100011110100010000110001001010011101000111100110000101100110111110010010010111100111100010010110010110010101101000100110110100011000110100101011100110111100111100111101010111010110110001110101101001011010111111001101011101001010110011011100101000101001000010000101100101010110110011100010010110011111111100010101010101100010010110001011100011110100'"
      ]
     },
     "execution_count": 6,
     "metadata": {},
     "output_type": "execute_result"
    }
   ],
   "source": [
    "encoded = ''\n",
    "for char in txt:\n",
    "    encoded = encoded + tree[char][-1]\n",
    "encoded"
   ]
  }
 ],
 "metadata": {
  "kernelspec": {
   "display_name": "Python 3",
   "language": "python",
   "name": "python3"
  },
  "language_info": {
   "codemirror_mode": {
    "name": "ipython",
    "version": 3
   },
   "file_extension": ".py",
   "mimetype": "text/x-python",
   "name": "python",
   "nbconvert_exporter": "python",
   "pygments_lexer": "ipython3",
   "version": "3.8.3"
  }
 },
 "nbformat": 4,
 "nbformat_minor": 5
}
